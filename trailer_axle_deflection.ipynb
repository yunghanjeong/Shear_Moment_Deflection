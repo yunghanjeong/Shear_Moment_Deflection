{
 "cells": [
  {
   "cell_type": "markdown",
   "metadata": {},
   "source": [
    "# Trailor Axle Deflection/Strain Calculation\n",
    "\n",
    "## Problem Statement\n",
    "<br>\n",
    "Trailor, most specifically 40ft tandem axle trailor, contains 4 major assemblies. Main rails, landing gear, axles, and suspension. At rest the trailer is supported at 3 ends: landing gear, front axle, and rear axle. It can be assumed that the weight distribution on the axles assemblies are directly transfered from the mainrails to the axles by the suspension assembly. Since, they are the only point of load transfer it could be assumed that there is a linear relationship between the load on axle, thus its deflection under load, and the load on the trailor. \n",
    "\n",
    "![img](https://raw.githubusercontent.com/yunghanjeong/Shear_Moment_Deflection/master/images/trailor_freebodydiagram.PNG)\n",
    "\n",
    "However, static analysis of the load distribution is impossible since the degrees of freedom in static analysis for this case is -1. Therefore, this statically indeterminate body must be solved using superposition and piecewise by the double integration method. \n",
    "\n",
    "\n",
    "## Methods\n",
    "1. Define governing equations using FBD above.\n",
    "2. Solve the supports piecewise using double integration method using sympy\n",
    "3. Feed the resulting forces on support as direct forces on the axle\n",
    "4. Calculate axle deflection and strain "
   ]
  },
  {
   "cell_type": "code",
   "execution_count": 10,
   "metadata": {},
   "outputs": [],
   "source": [
    "import os\n",
    "import src.smd_calc as smd\n",
    "import matplotlib.pyplot as plt\n",
    "import numpy as np"
   ]
  },
  {
   "cell_type": "code",
   "execution_count": 2,
   "metadata": {},
   "outputs": [],
   "source": [
    "trailer = smd.solve_chassis(OD = 5.0,wallthick  = 0.25)"
   ]
  },
  {
   "cell_type": "code",
   "execution_count": 26,
   "metadata": {},
   "outputs": [
    {
     "name": "stdout",
     "output_type": "stream",
     "text": [
      "Solving Statically Indeterminate Beam using Double Integration Piece Wise Fx \n",
      "\n",
      "REACTIONARY FORCES\n",
      "A =  16140.240 lbs\n",
      "B =  11373.943 lbs\n",
      "C =  12485.817 lbs\n",
      "Ma =  -143016.45 lbs*ft\n"
     ]
    }
   ],
   "source": [
    "support_load = trailer.solvetrailer(1000,40,1) #[16140.240, 11373.943, 12485.817, -143016.45]"
   ]
  },
  {
   "cell_type": "code",
   "execution_count": 30,
   "metadata": {},
   "outputs": [],
   "source": [
    "axle = np.arange(20,29)\n",
    "deflection_1 = [trailer.simp_im_def(num,w1=support_load[1]/2,w2=support_load[1]/2) for num in axle]\n",
    "deflection_2 = [trailer.simp_im_def(num,w1=support_load[2]/2,w2=support_load[2]/2) for num in axle]"
   ]
  },
  {
   "cell_type": "code",
   "execution_count": 31,
   "metadata": {},
   "outputs": [
    {
     "data": {
      "text/plain": [
       "<matplotlib.legend.Legend at 0x7fc61f63f9b0>"
      ]
     },
     "execution_count": 31,
     "metadata": {},
     "output_type": "execute_result"
    },
    {
     "data": {
      "image/png": "[encoded data removed]",
      "text/plain": [
       "<Figure size 432x288 with 1 Axes>"
      ]
     },
     "metadata": {
      "needs_background": "light"
     },
     "output_type": "display_data"
    }
   ],
   "source": [
    "plt.plot(axle,deflection_1, label = \"Front Axle\")\n",
    "plt.plot(axle,deflection_2, label = \"Rear Axle\")\n",
    "plt.legend()"
   ]
  },
  {
   "cell_type": "code",
   "execution_count": null,
   "metadata": {},
   "outputs": [],
   "source": []
  }
 ],
 "metadata": {
  "kernelspec": {
   "display_name": "Python 3",
   "language": "python",
   "name": "python3"
  },
  "language_info": {
   "codemirror_mode": {
    "name": "ipython",
    "version": 3
   },
   "file_extension": ".py",
   "mimetype": "text/x-python",
   "name": "python",
   "nbconvert_exporter": "python",
   "pygments_lexer": "ipython3",
   "version": "3.7.1"
  }
 },
 "nbformat": 4,
 "nbformat_minor": 4
}
