{
 "cells": [
  {
   "cell_type": "markdown",
   "metadata": {},
   "source": [
    "# Trailor Axle Deflection/Strain Calculation\n",
    "\n",
    "## Problem Statement\n",
    "<br>\n",
    "Trailor, most specifically 40ft tandem axle trailor, contains 4 major assemblies. Main rails, landing gear, axles, and suspension. At rest the trailer is supported at 3 ends: landing gear, front axle, and rear axle. It can be assumed that the weight distribution on the axles assemblies are directly transfered from the mainrails to the axles by the suspension assembly. Since, they are the only point of load transfer it could be assumed that there is a linear relationship between the load on axle, thus its deflection under load, and the load on the trailor. \n",
    "\n",
    "![img](https://raw.githubusercontent.com/yunghanjeong/Shear_Moment_Deflection/master/images/trailor_freebodydiagram.PNG)\n",
    "\n",
    "However, static analysis of the load distribution is impossible since the degrees of freedom in static analysis for this case is -1. Therefore, this statically indeterminate body must be solved using superposition and piecewise by the double integration method. \n",
    "\n",
    "\n",
    "## Methods\n",
    "1. Define governing equations using FBD above.\n",
    "2. Solve the supports piecewise using double integration method using sympy\n",
    "3. Feed the resulting forces on support as direct forces on the axle\n",
    "4. Calculate axle deflection and strain "
   ]
  },
  {
   "cell_type": "code",
   "execution_count": null,
   "metadata": {},
   "outputs": [],
   "source": []
  }
 ],
 "metadata": {
  "kernelspec": {
   "display_name": "Python 3",
   "language": "python",
   "name": "python3"
  },
  "language_info": {
   "codemirror_mode": {
    "name": "ipython",
    "version": 3
   },
   "file_extension": ".py",
   "mimetype": "text/x-python",
   "name": "python",
   "nbconvert_exporter": "python",
   "pygments_lexer": "ipython3",
   "version": "3.6.9"
  }
 },
 "nbformat": 4,
 "nbformat_minor": 4
}
